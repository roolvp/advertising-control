{
 "cells": [
  {
   "cell_type": "code",
   "execution_count": 1,
   "metadata": {},
   "outputs": [
    {
     "name": "stdout",
     "output_type": "stream",
     "text": [
      "Hello World\n"
     ]
    }
   ],
   "source": [
    "print(\"Hello World\")"
   ]
  },
  {
   "cell_type": "markdown",
   "metadata": {},
   "source": [
    "# Practical Budget Pacing Algorithms, PID Controler and Simulation Test Bed for eBay Marketplace Sponsored Search\n",
    "\n",
    "Recreation of the simulations and techniques used by Ebay in this paper http://papers.adkdd.org/2023/papers/adkdd23-nguyen-practical.pdf\n",
    "\n",
    "\n",
    "This notebook adds:\n",
    "- Adds a new PID control method and compares with the pacing algorithms used in the paper\n",
    "- Simulates user-interaction data, as we don't have access to it. \n",
    "\n"
   ]
  },
  {
   "cell_type": "code",
   "execution_count": 6,
   "metadata": {},
   "outputs": [],
   "source": [
    "import pandas as pd\n"
   ]
  },
  {
   "cell_type": "markdown",
   "metadata": {},
   "source": []
  },
  {
   "cell_type": "code",
   "execution_count": 2,
   "metadata": {},
   "outputs": [],
   "source": [
    "# Simulate 1440 minutes in a day\n",
    "# Simulate bids for competing campaigns (3 campaigns with different budgets)\n",
    "# Calculate Metrics for each campaign\n",
    "# Use different pacing algorithms to spend budget\n",
    "# Add PID to each campaign\n",
    "# Build a nice UI\n",
    "\n",
    "\n",
    "# Create dataframe that has\n",
    "# Keyword, Item, Time, pCTR(probability of click through rate), bid\n",
    "\n",
    "\n"
   ]
  },
  {
   "cell_type": "code",
   "execution_count": 8,
   "metadata": {},
   "outputs": [
    {
     "data": {
      "text/html": [
       "<div>\n",
       "<style scoped>\n",
       "    .dataframe tbody tr th:only-of-type {\n",
       "        vertical-align: middle;\n",
       "    }\n",
       "\n",
       "    .dataframe tbody tr th {\n",
       "        vertical-align: top;\n",
       "    }\n",
       "\n",
       "    .dataframe thead th {\n",
       "        text-align: right;\n",
       "    }\n",
       "</style>\n",
       "<table border=\"1\" class=\"dataframe\">\n",
       "  <thead>\n",
       "    <tr style=\"text-align: right;\">\n",
       "      <th></th>\n",
       "      <th>Item</th>\n",
       "      <th>Keyword</th>\n",
       "      <th>pCTR</th>\n",
       "      <th>Bid</th>\n",
       "    </tr>\n",
       "  </thead>\n",
       "  <tbody>\n",
       "    <tr>\n",
       "      <th>0</th>\n",
       "      <td>Time Series Analysis: Forecasting and Control</td>\n",
       "      <td>statistics book</td>\n",
       "      <td>0.030</td>\n",
       "      <td>0.50</td>\n",
       "    </tr>\n",
       "    <tr>\n",
       "      <th>1</th>\n",
       "      <td>Practical Statistics for Data Scientists</td>\n",
       "      <td>statistics book</td>\n",
       "      <td>0.035</td>\n",
       "      <td>0.45</td>\n",
       "    </tr>\n",
       "    <tr>\n",
       "      <th>2</th>\n",
       "      <td>Designing Data-Intensive Applications</td>\n",
       "      <td>statistics book</td>\n",
       "      <td>0.028</td>\n",
       "      <td>0.55</td>\n",
       "    </tr>\n",
       "  </tbody>\n",
       "</table>\n",
       "</div>"
      ],
      "text/plain": [
       "                                            Item          Keyword   pCTR   Bid\n",
       "0  Time Series Analysis: Forecasting and Control  statistics book  0.030  0.50\n",
       "1       Practical Statistics for Data Scientists  statistics book  0.035  0.45\n",
       "2          Designing Data-Intensive Applications  statistics book  0.028  0.55"
      ]
     },
     "metadata": {},
     "output_type": "display_data"
    }
   ],
   "source": [
    "# Simulate 1440 minutes in a day, M campaigns competing for N keywords, pCTR, bid\n",
    "\n",
    "# Define data\n",
    "data = {\n",
    "    # Each item is a book that represents a campaign\n",
    "    'Item': ['Time Series Analysis: Forecasting and Control', 'Practical Statistics for Data Scientists', 'Designing Data-Intensive Applications'],\n",
    "    # They are all bidding on the same keyword\n",
    "    'Keyword': ['statistics book', 'statistics book', 'statistics book'],\n",
    "    # Probability of click through rate (This is a guess as we don't have the actual data)\n",
    "    'pCTR': [0.03, 0.035, 0.028],\n",
    "    # Bid amount (this will be randomized around this central amount)\n",
    "    'Bid': [0.5, 0.45, 0.55]\n",
    "}\n",
    "\n",
    "# Create DataFrame\n",
    "items_keywords_df = pd.DataFrame(data)\n",
    "\n",
    "# Print DataFrame\n",
    "display(items_keywords_df)"
   ]
  },
  {
   "cell_type": "code",
   "execution_count": null,
   "metadata": {},
   "outputs": [],
   "source": [
    "# Simple Simulation with no budget constraints\n",
    "\n",
    "# Simulate 1440 minutes in a day\n",
    "    # Could have peaks of traffic around the day\n",
    "    # Could have multiple impressions\n",
    "    \n",
    "# Simulate a bid around a keyword\n",
    " # Bid amount is a random number around the central bid amount\n",
    " # The click through rate is a random number around the central pCTR\n",
    " \n",
    "  \n",
    " # Business Metrics\n",
    "  # Total Clicks\n",
    "  # Budget Spend\n",
    "  # CTR\n",
    "  # Cost Per Click\n",
    "  \n",
    "# Pacing Evaluation Metrics\n",
    " # Pacing Error. Smoothness of spend over the day\n"
   ]
  },
  {
   "cell_type": "code",
   "execution_count": 186,
   "metadata": {},
   "outputs": [
    {
     "name": "stdout",
     "output_type": "stream",
     "text": [
      "The winner is Designing Data-Intensive Applications\n",
      "The price paid is 0.3797255989679636\n"
     ]
    }
   ],
   "source": [
    "# Simulate a bid around a keyword\n",
    "   # This should will take modifiers from control algorithms\n",
    "import numpy as np\n",
    "def auction(df):\n",
    "    \"\"\"\n",
    "    Gets df with bidding information and simulates an auction\n",
    "    \n",
    "    Returns winner and price paid\n",
    "    \n",
    "    \"\"\"\n",
    "    bid_dict = {}\n",
    "    for index, id in df.iterrows():\n",
    "        bid_dict[index] = id['Bid']- np.random.uniform(0.0, 0.2)\n",
    "    winner = max(bid_dict, key=bid_dict.get)\n",
    "    # price paid is the bid of the second highest bidder\n",
    "    price_paid = sorted(bid_dict.values(), reverse=True)[1]\n",
    "    return winner, price_paid\n",
    "\n",
    "winner, price_paid = auction(items_keywords_df)\n",
    "\n",
    "print(f\"The winner is {items_keywords_df.iloc[winner]['Item']}\")\n",
    "print(f\"The price paid is {price_paid}\")"
   ]
  }
 ],
 "metadata": {
  "kernelspec": {
   "display_name": ".venv",
   "language": "python",
   "name": "python3"
  },
  "language_info": {
   "codemirror_mode": {
    "name": "ipython",
    "version": 3
   },
   "file_extension": ".py",
   "mimetype": "text/x-python",
   "name": "python",
   "nbconvert_exporter": "python",
   "pygments_lexer": "ipython3",
   "version": "3.11.4"
  }
 },
 "nbformat": 4,
 "nbformat_minor": 2
}
