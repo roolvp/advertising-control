{
 "cells": [
  {
   "cell_type": "code",
   "execution_count": 1,
   "metadata": {},
   "outputs": [
    {
     "name": "stdout",
     "output_type": "stream",
     "text": [
      "Hello World\n"
     ]
    }
   ],
   "source": [
    "print(\"Hello World\")"
   ]
  },
  {
   "cell_type": "markdown",
   "metadata": {},
   "source": [
    "# Practical Budget Pacing Algorithms, PID Controler and Simulation Test Bed for eBay Marketplace Sponsored Search\n",
    "\n",
    "Recreation of the simulations and techniques used by Ebay in this paper http://papers.adkdd.org/2023/papers/adkdd23-nguyen-practical.pdf\n",
    "\n",
    "\n",
    "This notebook adds:\n",
    "- Adds a new PID control method and compares with the pacing algorithms used in the paper\n",
    "- Simulates user-interaction data, as we don't have access to it. \n",
    "\n"
   ]
  },
  {
   "cell_type": "code",
   "execution_count": 6,
   "metadata": {},
   "outputs": [],
   "source": [
    "import pandas as pd\n"
   ]
  },
  {
   "cell_type": "markdown",
   "metadata": {},
   "source": []
  },
  {
   "cell_type": "code",
   "execution_count": 2,
   "metadata": {},
   "outputs": [],
   "source": [
    "# Simulate 1440 minutes in a day\n",
    "# Simulate bids for competing campaigns (3 campaigns with different budgets)\n",
    "# Calculate Metrics for each campaign\n",
    "# Use different pacing algorithms to spend budget\n",
    "# Add PID to each campaign\n",
    "# Build a nice UI\n",
    "\n",
    "\n",
    "# Create dataframe that has\n",
    "# Keyword, Item, Time, pCTR(probability of click through rate), bid\n",
    "\n",
    "\n"
   ]
  },
  {
   "cell_type": "code",
   "execution_count": 231,
   "metadata": {},
   "outputs": [
    {
     "data": {
      "text/html": [
       "<div>\n",
       "<style scoped>\n",
       "    .dataframe tbody tr th:only-of-type {\n",
       "        vertical-align: middle;\n",
       "    }\n",
       "\n",
       "    .dataframe tbody tr th {\n",
       "        vertical-align: top;\n",
       "    }\n",
       "\n",
       "    .dataframe thead th {\n",
       "        text-align: right;\n",
       "    }\n",
       "</style>\n",
       "<table border=\"1\" class=\"dataframe\">\n",
       "  <thead>\n",
       "    <tr style=\"text-align: right;\">\n",
       "      <th></th>\n",
       "      <th>Item</th>\n",
       "      <th>Keyword</th>\n",
       "      <th>pCTR</th>\n",
       "      <th>Bid</th>\n",
       "    </tr>\n",
       "  </thead>\n",
       "  <tbody>\n",
       "    <tr>\n",
       "      <th>0</th>\n",
       "      <td>Time Series Analysis: Forecasting and Control</td>\n",
       "      <td>statistics book</td>\n",
       "      <td>0.03</td>\n",
       "      <td>0.50</td>\n",
       "    </tr>\n",
       "    <tr>\n",
       "      <th>1</th>\n",
       "      <td>Practical Statistics for Data Scientists</td>\n",
       "      <td>statistics book</td>\n",
       "      <td>0.04</td>\n",
       "      <td>0.45</td>\n",
       "    </tr>\n",
       "    <tr>\n",
       "      <th>2</th>\n",
       "      <td>Designing Data-Intensive Applications</td>\n",
       "      <td>statistics book</td>\n",
       "      <td>0.02</td>\n",
       "      <td>0.55</td>\n",
       "    </tr>\n",
       "  </tbody>\n",
       "</table>\n",
       "</div>"
      ],
      "text/plain": [
       "                                            Item          Keyword  pCTR   Bid\n",
       "0  Time Series Analysis: Forecasting and Control  statistics book  0.03  0.50\n",
       "1       Practical Statistics for Data Scientists  statistics book  0.04  0.45\n",
       "2          Designing Data-Intensive Applications  statistics book  0.02  0.55"
      ]
     },
     "metadata": {},
     "output_type": "display_data"
    }
   ],
   "source": [
    "# Simulate 1440 minutes in a day, M campaigns competing for N keywords, pCTR, bid\n",
    "\n",
    "# Define data\n",
    "data = {\n",
    "    # Each item is a book that represents a campaign\n",
    "    'Item': ['Time Series Analysis: Forecasting and Control', 'Practical Statistics for Data Scientists', 'Designing Data-Intensive Applications'],\n",
    "    # They are all bidding on the same keyword\n",
    "    'Keyword': ['statistics book', 'statistics book', 'statistics book'],\n",
    "    # Probability of click through rate (This is a guess as we don't have the actual data)\n",
    "    'pCTR': [0.03, 0.04, 0.02],\n",
    "    # Bid amount (this will be randomized around this central amount)\n",
    "    'Bid': [0.5, 0.45, 0.55]\n",
    "}\n",
    "\n",
    "# Create DataFrame\n",
    "items_keywords_df = pd.DataFrame(data)\n",
    "\n",
    "# Print DataFrame\n",
    "display(items_keywords_df)"
   ]
  },
  {
   "cell_type": "code",
   "execution_count": null,
   "metadata": {},
   "outputs": [],
   "source": [
    "# Simple Simulation with no budget constraints\n",
    "\n",
    "# Simulate 1440 minutes in a day\n",
    "    # Could have peaks of traffic around the day\n",
    "    # Could have multiple impressions\n",
    "    \n",
    "# Simulate a bid around a keyword\n",
    " # Bid amount is a random number around the central bid amount\n",
    " # The click through rate is a random number around the central pCTR\n",
    " \n",
    "  \n",
    " # Business Metrics\n",
    "  # Total Clicks\n",
    "  # Budget Spend\n",
    "  # CTR\n",
    "  # Cost Per Click\n",
    "  \n",
    "# Pacing Evaluation Metrics\n",
    " # Pacing Error. Smoothness of spend over the day\n"
   ]
  },
  {
   "cell_type": "code",
   "execution_count": 232,
   "metadata": {},
   "outputs": [
    {
     "name": "stdout",
     "output_type": "stream",
     "text": [
      "The winner is Designing Data-Intensive Applications\n",
      "The price paid is 0.3213853474297117\n"
     ]
    }
   ],
   "source": [
    "# Simulate a bid around a keyword\n",
    "   # This should will take modifiers from control algorithms\n",
    "import numpy as np\n",
    "def auction(df):\n",
    "    \"\"\"\n",
    "    Gets df with bidding information and simulates an auction\n",
    "    \n",
    "    Returns winner and price paid\n",
    "    \n",
    "    \"\"\"\n",
    "    bid_dict = {}\n",
    "    for index, id in df.iterrows():\n",
    "        bid_dict[index] = id['Bid']- np.random.uniform(0.0, 0.2)\n",
    "    winner = max(bid_dict, key=bid_dict.get)\n",
    "    # price paid is the bid of the second highest bidder\n",
    "    price_paid = sorted(bid_dict.values(), reverse=True)[1]\n",
    "    return winner, price_paid\n",
    "\n",
    "winner, price_paid = auction(items_keywords_df)\n",
    "\n",
    "print(f\"The winner is {items_keywords_df.iloc[winner]['Item']}\")\n",
    "print(f\"The price paid is {price_paid}\")"
   ]
  },
  {
   "cell_type": "code",
   "execution_count": 233,
   "metadata": {},
   "outputs": [],
   "source": [
    "# Simulate unlimited budget over 1440 minutes\n",
    "# iterate over 1440 minutes (flat traffic)\n",
    "# Save the winner and price paid\n",
    "# Build a dataframe with the results\n",
    "\n",
    "simulation_results = []\n",
    "for minute in range(1440):\n",
    "    winner, price_paid = auction(items_keywords_df)\n",
    "    result = {\n",
    "        'Minute': minute,\n",
    "        'Winner': items_keywords_df.iloc[winner]['Item'],\n",
    "        'Price Paid': price_paid,\n",
    "        \"pCTR\": items_keywords_df.iloc[winner]['pCTR'] + np.random.normal(-0.01, 0.01),\n",
    "    }\n",
    "    simulation_results.append(result)\n",
    "    \n",
    "simulation_results_df = pd.DataFrame(simulation_results)"
   ]
  },
  {
   "cell_type": "code",
   "execution_count": 234,
   "metadata": {},
   "outputs": [
    {
     "data": {
      "text/html": [
       "<div>\n",
       "<style scoped>\n",
       "    .dataframe tbody tr th:only-of-type {\n",
       "        vertical-align: middle;\n",
       "    }\n",
       "\n",
       "    .dataframe tbody tr th {\n",
       "        vertical-align: top;\n",
       "    }\n",
       "\n",
       "    .dataframe thead th {\n",
       "        text-align: right;\n",
       "    }\n",
       "</style>\n",
       "<table border=\"1\" class=\"dataframe\">\n",
       "  <thead>\n",
       "    <tr style=\"text-align: right;\">\n",
       "      <th></th>\n",
       "      <th>Price Paid</th>\n",
       "      <th>pCTR</th>\n",
       "      <th>Minute</th>\n",
       "    </tr>\n",
       "    <tr>\n",
       "      <th>Winner</th>\n",
       "      <th></th>\n",
       "      <th></th>\n",
       "      <th></th>\n",
       "    </tr>\n",
       "  </thead>\n",
       "  <tbody>\n",
       "    <tr>\n",
       "      <th>Designing Data-Intensive Applications</th>\n",
       "      <td>0.396556</td>\n",
       "      <td>0.010336</td>\n",
       "      <td>974</td>\n",
       "    </tr>\n",
       "    <tr>\n",
       "      <th>Practical Statistics for Data Scientists</th>\n",
       "      <td>0.393527</td>\n",
       "      <td>0.030848</td>\n",
       "      <td>119</td>\n",
       "    </tr>\n",
       "    <tr>\n",
       "      <th>Time Series Analysis: Forecasting and Control</th>\n",
       "      <td>0.407834</td>\n",
       "      <td>0.019537</td>\n",
       "      <td>347</td>\n",
       "    </tr>\n",
       "  </tbody>\n",
       "</table>\n",
       "</div>"
      ],
      "text/plain": [
       "                                               Price Paid      pCTR  Minute\n",
       "Winner                                                                     \n",
       "Designing Data-Intensive Applications            0.396556  0.010336     974\n",
       "Practical Statistics for Data Scientists         0.393527  0.030848     119\n",
       "Time Series Analysis: Forecasting and Control    0.407834  0.019537     347"
      ]
     },
     "execution_count": 234,
     "metadata": {},
     "output_type": "execute_result"
    }
   ],
   "source": [
    "simulation_results_df.groupby(\"Winner\").agg({\"Price Paid\": \"mean\", \"pCTR\": \"mean\", \"Minute\": \"count\"})"
   ]
  },
  {
   "cell_type": "code",
   "execution_count": 235,
   "metadata": {},
   "outputs": [
    {
     "data": {
      "text/html": [
       "<div>\n",
       "<style scoped>\n",
       "    .dataframe tbody tr th:only-of-type {\n",
       "        vertical-align: middle;\n",
       "    }\n",
       "\n",
       "    .dataframe tbody tr th {\n",
       "        vertical-align: top;\n",
       "    }\n",
       "\n",
       "    .dataframe thead th {\n",
       "        text-align: right;\n",
       "    }\n",
       "</style>\n",
       "<table border=\"1\" class=\"dataframe\">\n",
       "  <thead>\n",
       "    <tr style=\"text-align: right;\">\n",
       "      <th></th>\n",
       "      <th>Price Paid</th>\n",
       "      <th>pCTR</th>\n",
       "      <th>Minute</th>\n",
       "      <th>Clicks</th>\n",
       "      <th>Total Spend</th>\n",
       "      <th>Cost Per Click</th>\n",
       "    </tr>\n",
       "    <tr>\n",
       "      <th>Winner</th>\n",
       "      <th></th>\n",
       "      <th></th>\n",
       "      <th></th>\n",
       "      <th></th>\n",
       "      <th></th>\n",
       "      <th></th>\n",
       "    </tr>\n",
       "  </thead>\n",
       "  <tbody>\n",
       "    <tr>\n",
       "      <th>Designing Data-Intensive Applications</th>\n",
       "      <td>0.396556</td>\n",
       "      <td>0.010336</td>\n",
       "      <td>974</td>\n",
       "      <td>10067.269386</td>\n",
       "      <td>3978.784386</td>\n",
       "      <td>0.396556</td>\n",
       "    </tr>\n",
       "    <tr>\n",
       "      <th>Practical Statistics for Data Scientists</th>\n",
       "      <td>0.393527</td>\n",
       "      <td>0.030848</td>\n",
       "      <td>119</td>\n",
       "      <td>3670.941687</td>\n",
       "      <td>1443.947454</td>\n",
       "      <td>0.393527</td>\n",
       "    </tr>\n",
       "    <tr>\n",
       "      <th>Time Series Analysis: Forecasting and Control</th>\n",
       "      <td>0.407834</td>\n",
       "      <td>0.019537</td>\n",
       "      <td>347</td>\n",
       "      <td>6779.467485</td>\n",
       "      <td>2788.527621</td>\n",
       "      <td>0.407834</td>\n",
       "    </tr>\n",
       "  </tbody>\n",
       "</table>\n",
       "</div>"
      ],
      "text/plain": [
       "                                               Price Paid      pCTR  Minute  \\\n",
       "Winner                                                                        \n",
       "Designing Data-Intensive Applications            0.396556  0.010336     974   \n",
       "Practical Statistics for Data Scientists         0.393527  0.030848     119   \n",
       "Time Series Analysis: Forecasting and Control    0.407834  0.019537     347   \n",
       "\n",
       "                                                     Clicks  Total Spend  \\\n",
       "Winner                                                                     \n",
       "Designing Data-Intensive Applications          10067.269386  3978.784386   \n",
       "Practical Statistics for Data Scientists        3670.941687  1443.947454   \n",
       "Time Series Analysis: Forecasting and Control   6779.467485  2788.527621   \n",
       "\n",
       "                                               Cost Per Click  \n",
       "Winner                                                         \n",
       "Designing Data-Intensive Applications                0.396556  \n",
       "Practical Statistics for Data Scientists             0.393527  \n",
       "Time Series Analysis: Forecasting and Control        0.407834  "
      ]
     },
     "execution_count": 235,
     "metadata": {},
     "output_type": "execute_result"
    }
   ],
   "source": [
    "\n",
    "# Add number of clicks, total spend, CTR, CPC\n",
    "def calc_clicks(pCTR, total_impressions = 1000):\n",
    "    return total_impressions * pCTR\n",
    "\n",
    "def calc_total_spend(clicks, price_paid):\n",
    "    return clicks * price_paid\n",
    "\n",
    "simulation_results_df['Clicks'] = simulation_results_df.apply(lambda x: calc_clicks(total_impressions=1000, pCTR=x['pCTR']), axis=1)\n",
    "simulation_results_df['Total Spend'] = simulation_results_df.apply(lambda x: calc_total_spend(x['Clicks'], x['Price Paid']), axis=1)\n",
    "\n",
    "\n",
    "simulation_results_df.groupby(\"Winner\").agg({\"Price Paid\": \"mean\", \"pCTR\": \"mean\", \"Minute\": \"count\", \"Clicks\": \"sum\", \"Total Spend\": \"sum\"})\n",
    "\n",
    "# add cost per click\n",
    "simulation_results_df['Cost Per Click'] = simulation_results_df['Total Spend'] / simulation_results_df['Clicks']\n",
    "\n",
    "simulation_results_df.groupby(\"Winner\").agg({\"Price Paid\": \"mean\", \"pCTR\": \"mean\", \"Minute\": \"count\", \"Clicks\": \"sum\", \"Total Spend\": \"sum\", \"Cost Per Click\": \"mean\"})\n",
    "\n",
    "\n",
    "# Cost per click are very similar for all campaigns\n",
    "# Can introduce quality scores and impression charges?\n"
   ]
  },
  {
   "cell_type": "code",
   "execution_count": null,
   "metadata": {},
   "outputs": [],
   "source": []
  }
 ],
 "metadata": {
  "kernelspec": {
   "display_name": ".venv",
   "language": "python",
   "name": "python3"
  },
  "language_info": {
   "codemirror_mode": {
    "name": "ipython",
    "version": 3
   },
   "file_extension": ".py",
   "mimetype": "text/x-python",
   "name": "python",
   "nbconvert_exporter": "python",
   "pygments_lexer": "ipython3",
   "version": "3.11.4"
  }
 },
 "nbformat": 4,
 "nbformat_minor": 2
}
